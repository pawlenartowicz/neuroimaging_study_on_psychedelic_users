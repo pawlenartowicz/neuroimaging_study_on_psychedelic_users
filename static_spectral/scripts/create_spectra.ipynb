{
 "cells": [
  {
   "cell_type": "code",
   "execution_count": 1,
   "id": "0c272e73-ecc3-4db4-b805-ded6b229e4a9",
   "metadata": {},
   "outputs": [],
   "source": [
    "###packages\n",
    "import numpy as np\n",
    "import mne\n",
    "import os\n",
    "mne.set_log_level('WARNING')"
   ]
  },
  {
   "cell_type": "markdown",
   "id": "e4a8ae4c-9da6-435f-bd88-2a287dcfc6b6",
   "metadata": {},
   "source": [
    "# Spectral analysis"
   ]
  },
  {
   "cell_type": "code",
   "execution_count": 2,
   "id": "fa765375-79ad-4220-9442-b62e8bf5c4e3",
   "metadata": {},
   "outputs": [],
   "source": [
    "###Will use that later a lot\n",
    "nyquist_krk = 128\n",
    "nyquist_wwa = 125"
   ]
  },
  {
   "cell_type": "code",
   "execution_count": 4,
   "id": "156123f1-9a7a-4ab4-b44d-e7fa407c7f5d",
   "metadata": {},
   "outputs": [],
   "source": [
    "###RUN JUST ONCE \n",
    "###creating frequency vectors for band masking\n",
    "##krk\n",
    "epochs_krk =  mne.io.read_epochs_eeglab(r\"D:\\mgr_disc\\data_after_EEGlab_improved\\Krk\\101_psychodel_rest_epoched.set\")\n",
    "freqs_krk = epochs_krk.compute_psd(fmax=nyquist_krk).freqs\n",
    "np.save(r\"D:\\mgr_disc\\freq_vectors\\freqs_krk\", freqs_krk)\n",
    "\n",
    "##wwa\n",
    "epochs_wwa =  mne.io.read_epochs_eeglab(r\"D:\\mgr_disc\\data_after_EEGlab_improved\\Wwa\\002_psychodel_rest_epoched.set\")\n",
    "freqs_wwa = epochs_wwa.compute_psd(fmax=nyquist_wwa).freqs\n",
    "np.save(r\"D:\\mgr_disc\\freq_vectors\\freqs_wwa\", freqs_wwa)"
   ]
  },
  {
   "cell_type": "markdown",
   "id": "2e67f87d-e44b-499a-8e15-a6a1800c36be",
   "metadata": {},
   "source": [
    "### *!!!!!*\n",
    "Remove certain participants"
   ]
  },
  {
   "cell_type": "code",
   "execution_count": 34,
   "id": "a1b6d346-9790-4174-a3ce-70b334ae1c9c",
   "metadata": {},
   "outputs": [],
   "source": [
    "to_get_rid_of = ['020', '024', '025', '028', '082', '083', '117']\n",
    "\n",
    "os.chdir(r\"D:\\mgr_disc\\Final\")\n",
    "cities = ['Krk', 'Wwa']\n",
    "\n",
    "for city in cities:\n",
    "    \n",
    "    os.chdir(city)\n",
    "    file_list = os.listdir()\n",
    "\n",
    "    for file in file_list:\n",
    "        \n",
    "        if any(x in file for x in to_get_rid_of):\n",
    "            \n",
    "            os.remove(file)\n",
    "            print(f'{file} succesfully removed')\n",
    "\n",
    "    os.chdir('..')"
   ]
  },
  {
   "cell_type": "code",
   "execution_count": 3,
   "id": "dabf99a1-7eb7-4e7f-969b-48d93afa4f3f",
   "metadata": {},
   "outputs": [],
   "source": [
    "###spectral creating tensors of spectral data for average plot\n",
    "\n",
    "##paths\n",
    "os.chdir(r\"D:\\mgr_disc\\Final\")\n",
    "cities = ['Krk', 'Wwa']#we have to do it separetely for each city\n",
    "\n",
    "##directory of each city\n",
    "for city in cities:\n",
    "    os.chdir(city)\n",
    "    files_all = os.listdir()\n",
    "    files_set = [x for x in files_all if 'set' in x]\n",
    "    save_dir = os.path.dirname(os.getcwd()) + rf'\\{city}_spectral_tensors'\n",
    "    if not os.path.exists(save_dir):\n",
    "        os.mkdir(save_dir)\n",
    "\n",
    "    ##remove participant with wrong conditions\n",
    "    if city == 'Wwa':\n",
    "        files_set.remove('026_psychodel_rest_epoched.set')\n",
    "\n",
    "    for participant in files_set:\n",
    "        ##load epoch data\n",
    "        epochs =  mne.io.read_epochs_eeglab(participant)\n",
    "\n",
    "        ##separate eyes open and eyes closed\n",
    "        epo_ec = epochs['S 11']\n",
    "        epo_eo = epochs['S 10']\n",
    "        \n",
    "        ##different cities have different sampling frequencies\n",
    "        if city == 'Krk':\n",
    "            psd_ec = epo_ec.compute_psd(fmax=nyquist_krk)\n",
    "            psd_eo = epo_eo.compute_psd(fmax=nyquist_krk)\n",
    "        elif city == 'Wwa':\n",
    "            psd_ec = epo_ec.compute_psd(fmax=nyquist_wwa)\n",
    "            psd_eo = epo_eo.compute_psd(fmax=nyquist_wwa)\n",
    "\n",
    "        ##save\n",
    "        psd_ec.save(os.path.join(save_dir, f\"{participant[:3]}_epo_ec-psd.hdf5\"), overwrite=True)\n",
    "        psd_eo.save(os.path.join(save_dir, f\"{participant[:3]}_epo_eo-psd.hdf5\"), overwrite=True)\n",
    "    \n",
    "    ##go to the previous directory to enable next iteration of city loop\n",
    "    os.chdir('..')\n",
    "\n",
    "#end :)"
   ]
  }
 ],
 "metadata": {
  "kernelspec": {
   "display_name": "Python 3 (ipykernel)",
   "language": "python",
   "name": "python3"
  },
  "language_info": {
   "codemirror_mode": {
    "name": "ipython",
    "version": 3
   },
   "file_extension": ".py",
   "mimetype": "text/x-python",
   "name": "python",
   "nbconvert_exporter": "python",
   "pygments_lexer": "ipython3",
   "version": "3.12.7"
  }
 },
 "nbformat": 4,
 "nbformat_minor": 5
}
